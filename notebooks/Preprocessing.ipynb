{
 "cells": [
  {
   "cell_type": "code",
   "execution_count": 7,
   "id": "544cd72a",
   "metadata": {},
   "outputs": [],
   "source": [
    "import pandas as pd\n",
    "import numpy as np\n",
    "import os\n",
    "from library.sb_utils import save_file"
   ]
  },
  {
   "cell_type": "code",
   "execution_count": 8,
   "id": "c6bdf921",
   "metadata": {},
   "outputs": [],
   "source": [
    "data = pd.read_csv('../data/cancer_data_cleaned.csv')"
   ]
  },
  {
   "cell_type": "code",
   "execution_count": 9,
   "id": "1991ba57",
   "metadata": {},
   "outputs": [],
   "source": [
    "#reassign M to 1, B to 0\n",
    "data['diagnosis'].replace([\"M\",\"B\"],[1,0],inplace=True)"
   ]
  },
  {
   "cell_type": "code",
   "execution_count": 10,
   "id": "79d0d833",
   "metadata": {},
   "outputs": [],
   "source": [
    "from sklearn.model_selection import train_test_split\n",
    "\n",
    "#Train/test split, using stratified sampling for moderate data imbalance (possible overkill), using 70/30 split\n",
    "\n",
    "X_train, X_test, y_train, y_test = train_test_split(data.drop(columns=\"diagnosis\"), \n",
    "                                                    data.diagnosis, test_size=0.3, random_state=23, stratify=data.diagnosis)"
   ]
  },
  {
   "cell_type": "code",
   "execution_count": 11,
   "id": "fd894869",
   "metadata": {},
   "outputs": [],
   "source": [
    "#scale data (Standardization, might revisit this later)\n",
    "#from sklearn.preprocessing import StandardScaler\n",
    "#from sklearn.preprocessing import RobustScaler\n",
    "#scaler = RobustScaler()\n",
    "#X_train = pd.DataFrame(scaler.fit_transform(X_train), index=X_train.index, columns=X_train.columns)\n",
    "#X_test = pd.DataFrame(scaler.transform(X_test), index=X_test.index, columns=X_test.columns)"
   ]
  },
  {
   "cell_type": "code",
   "execution_count": 12,
   "id": "f608f853",
   "metadata": {},
   "outputs": [],
   "source": [
    "#convert ys to Dataframes\n",
    "ytr = pd.DataFrame(y_train, columns = [\"diagnosis\"])\n",
    "yte = pd.DataFrame(y_test, columns = [\"diagnosis\"])\n",
    "\n",
    "# save scaled train and test sets\n",
    "datapath = \"../data/\"\n",
    "\n",
    "\n",
    "X_train.to_csv(datapath+\"X_train.csv\")\n",
    "X_test.to_csv(datapath+\"X_test.csv\")\n",
    "ytr.to_csv(datapath+\"y_train.csv\")\n",
    "yte.to_csv(datapath+\"y_test.csv\")\n",
    "\n",
    "#save_file(X_train, 'X_train.csv', datapath)\n",
    "#save_file(X_test, 'X_test.csv', datapath)\n",
    "#save_file(ytr, 'y_train.csv', datapath)\n",
    "#save_file(yte, 'y_test.csv', datapath)\n",
    "#np.savetxt(datapath+\"X_train.csv\", X_train, delimiter=',')\n",
    "#np.savetxt(datapath+\"X_test.csv\", X_test, delimiter=',')\n",
    "#np.savetxt(datapath+\"y_train.csv\", y_train, delimiter=',')\n",
    "#np.savetxt(datapath+\"y_test.csv\", y_test, delimiter=',')\n",
    "#np.savetxt(datapath+\"columns.csv\", X.columns.values, fmt='%s', delimiter=',')"
   ]
  },
  {
   "cell_type": "code",
   "execution_count": null,
   "id": "aa0b61de",
   "metadata": {},
   "outputs": [],
   "source": []
  }
 ],
 "metadata": {
  "kernelspec": {
   "display_name": "Python 3 (ipykernel)",
   "language": "python",
   "name": "python3"
  },
  "language_info": {
   "codemirror_mode": {
    "name": "ipython",
    "version": 3
   },
   "file_extension": ".py",
   "mimetype": "text/x-python",
   "name": "python",
   "nbconvert_exporter": "python",
   "pygments_lexer": "ipython3",
   "version": "3.9.7"
  }
 },
 "nbformat": 4,
 "nbformat_minor": 5
}
