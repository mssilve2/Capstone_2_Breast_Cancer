{
 "cells": [
  {
   "cell_type": "code",
   "execution_count": 1,
   "id": "544cd72a",
   "metadata": {},
   "outputs": [],
   "source": [
    "import pandas as pd\n",
    "import numpy as np\n",
    "import os\n",
    "from library.sb_utils import save_file"
   ]
  },
  {
   "cell_type": "code",
   "execution_count": 2,
   "id": "c6bdf921",
   "metadata": {},
   "outputs": [],
   "source": [
    "data = pd.read_csv('../data/cancer_data_cleaned.csv')"
   ]
  },
  {
   "cell_type": "code",
   "execution_count": 6,
   "id": "1991ba57",
   "metadata": {},
   "outputs": [],
   "source": [
    "#reassign M to 1, B to 0\n",
    "data['diagnosis'].replace([\"M\",\"B\"],[1,0],inplace=True)"
   ]
  },
  {
   "cell_type": "code",
   "execution_count": 9,
   "id": "79d0d833",
   "metadata": {},
   "outputs": [],
   "source": [
    "from sklearn.model_selection import train_test_split\n",
    "\n",
    "#split data into target and features\n",
    "y = data['diagnosis']\n",
    "X = data.drop('diagnosis', axis=1)\n",
    "\n",
    "#Train/test split, using stratified sampling for moderate data imbalance (possible overkill), using 70/30 split\n",
    "\n",
    "X_train, X_test, y_train, y_test = train_test_split(X, y, test_size=0.3, random_state=23, stratify=y)"
   ]
  },
  {
   "cell_type": "code",
   "execution_count": 10,
   "id": "fd894869",
   "metadata": {},
   "outputs": [],
   "source": [
    "#scale data (Standardization, might revisit this later)\n",
    "from sklearn.preprocessing import StandardScaler\n",
    "\n",
    "scaler = StandardScaler()\n",
    "X_train = scaler.fit_transform(X_train)\n",
    "X_test = scaler.transform(X_test)"
   ]
  },
  {
   "cell_type": "code",
   "execution_count": 24,
   "id": "f608f853",
   "metadata": {},
   "outputs": [],
   "source": [
    "# save scaled train and test sets\n",
    "datapath = \"../data/\"\n",
    "np.savetxt(datapath+\"X_train.csv\", X_train, delimiter=',')\n",
    "np.savetxt(datapath+\"X_test.csv\", X_test, delimiter=',')\n",
    "np.savetxt(datapath+\"y_train.csv\", y_train, delimiter=',')\n",
    "np.savetxt(datapath+\"y_test.csv\", y_test, delimiter=',')"
   ]
  },
  {
   "cell_type": "code",
   "execution_count": null,
   "id": "92eaf99b",
   "metadata": {},
   "outputs": [],
   "source": []
  }
 ],
 "metadata": {
  "kernelspec": {
   "display_name": "Python 3 (ipykernel)",
   "language": "python",
   "name": "python3"
  },
  "language_info": {
   "codemirror_mode": {
    "name": "ipython",
    "version": 3
   },
   "file_extension": ".py",
   "mimetype": "text/x-python",
   "name": "python",
   "nbconvert_exporter": "python",
   "pygments_lexer": "ipython3",
   "version": "3.9.7"
  }
 },
 "nbformat": 4,
 "nbformat_minor": 5
}
